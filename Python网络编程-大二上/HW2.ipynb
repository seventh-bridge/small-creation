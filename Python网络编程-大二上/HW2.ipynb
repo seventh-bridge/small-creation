{
 "cells": [
  {
   "cell_type": "markdown",
   "metadata": {},
   "source": [
    "# 作业2\n",
    "要求: \n",
    "    1. 尽量自己独立完成，如不懂可以问同学和老师，但是所有的代码都要自己输入，看懂，亲自运行\n",
    "    2. 注意作业的截止时间，要在截止时间前提交\n",
    "    3. 作业提交只需提交对应的ipynb后缀的文件\n",
    "题目："
   ]
  },
  {
   "cell_type": "markdown",
   "metadata": {},
   "source": [
    "## 一、百度地图获取地理位置信息"
   ]
  },
  {
   "cell_type": "markdown",
   "metadata": {},
   "source": [
    "参考书中4种获取地理位置信息的代码，原示例中的谷歌地图可改为百度地图，原示例中是输出地理位置信息的经度和纬度，将其改为可以输出指定地址的格式化地址信息。   \n",
    "例如：  \n",
    "hangzhou dianzi university的格式化地址信息：  \n",
    "中国浙江省杭州市西湖区文三路电子信息街区文一路115号\n"
   ]
  },
  {
   "cell_type": "code",
   "execution_count": 28,
   "metadata": {},
   "outputs": [
    {
     "name": "stdout",
     "output_type": "stream",
     "text": [
      "浙江省杭州市江干区金沙南路\n"
     ]
    }
   ],
   "source": [
    "import requests, json\n",
    "\n",
    "# 百度API不能直接去找格式化地址信息，只能先找经纬度，再去查找该坐标对应的格式化地址信息\n",
    "def geocode(access_key, addr):\n",
    "    para = {\n",
    "        'address': addr,\n",
    "        'output': 'json',\n",
    "        'ak': access_key\n",
    "    }\n",
    "    url = 'http://api.map.baidu.com/geocoding/v3/'\n",
    "    res = requests.get(url, params=para)\n",
    "    res = res.json()\n",
    "    return res['result']['location']\n",
    "\n",
    "def geoaddr(access_key, loc):\n",
    "    para = {\n",
    "        'ak': access_key,\n",
    "        'output': 'json',\n",
    "        'location': '{},{}'.format(loc['lat'], loc['lng'])\n",
    "    }\n",
    "    url = 'http://api.map.baidu.com/reverse_geocoding/v3/'\n",
    "    res = requests.get(url, params=para)\n",
    "    res = res.json()\n",
    "    print(res['result']['formatted_address'])\n",
    "\n",
    "if __name__ == '__main__':\n",
    "    access_key = '*****'\n",
    "    addr = '杭州电子科技大学'\n",
    "    loc_code = geocode(access_key, addr)\n",
    "    geoaddr(access_key, loc_code)\n"
   ]
  },
  {
   "cell_type": "markdown",
   "metadata": {},
   "source": [
    "如果谷歌地理信息服务实在无法访问，可以改成天气预报服务获取，参考课本中第2、3、4种方法来实现。  \n",
    "参考下面的说明：\n",
    " https://www.sojson.com/api/weather.html   \n",
    " \n",
    "例如：\n",
    "输入：杭州   \n",
    "输出格式为：\n",
    "杭州：20180920，湿度95， 温度24， 空气质量优，各类人群可自由活动\n",
    "\n"
   ]
  },
  {
   "cell_type": "code",
   "execution_count": 61,
   "metadata": {},
   "outputs": [
    {
     "name": "stdout",
     "output_type": "stream",
     "text": [
      "101210101\n",
      "杭州市，20191011，湿度81%，温度21，空气质量轻度污染，儿童、老年人及心脏、呼吸系统疾病患者人群应减少长时间或高强度户外锻炼\n"
     ]
    }
   ],
   "source": [
    "import socket, json\n",
    "\n",
    "# 直接通过城市名获取cityID的接口已经关闭，所以这里改成“输入cityID，输出该ID对应城市的天气预报\n",
    "# 杭州ID：101210101\n",
    "request_raw = '''GET /api/weather/city/{} HTTP/1.1\\r\n",
    "Host: t.weather.sojson.com\\r\n",
    "User-Agent: curl/7.58.0\\r\n",
    "Accept: */*\\r\n",
    "\\r\n",
    "'''\n",
    "# 好像utf-8不是每次都能decode成功...跟网络状况有关系\n",
    "def getweather(cityID):\n",
    "    sock = socket.socket()\n",
    "    sock.connect(('t.weather.sojson.com', 80))\n",
    "    request_text = request_raw.format(cityID)\n",
    "    sock.sendall(request_text.encode('ascii'))\n",
    "    raw_reply = b''\n",
    "    while True:\n",
    "        tmp = sock.recv(1024)\n",
    "        if not tmp:\n",
    "            break\n",
    "        raw_reply += tmp\n",
    "    raw_text = raw_reply.decode()\n",
    "    raw_text = raw_text.split('\\r\\n')\n",
    "    data = json.loads(raw_text[len(raw_text)-4])\n",
    "    out_s = '{}，{}，湿度{}，温度{}，空气质量{}，{}'.format(data['cityInfo']['city'], data['date'], data['data']['shidu'], data['data']['wendu'], data['data']['quality'], data['data']['ganmao'])\n",
    "    print(out_s)\n",
    "\n",
    "if __name__ == '__main__':\n",
    "    cityID = int(input())\n",
    "    getweather(cityID)\n"
   ]
  },
  {
   "cell_type": "markdown",
   "metadata": {},
   "source": [
    "## 二、掷骰子，猜大小游戏"
   ]
  },
  {
   "cell_type": "markdown",
   "metadata": {},
   "source": [
    "### 第一步，完成骰点list的生成\n",
    "下面是骰子的模版定义，分析其特征，利用str.split函数：\n",
    "* 先用换行('\\n')分隔符拆分为行，组成list\n",
    "* 再用换行('，')分隔符拆分每个骰点(1~6)的部分\n",
    "* 将每个骰点(1~6)的部分拼接，形成每个骰点的list"
   ]
  },
  {
   "cell_type": "code",
   "execution_count": 30,
   "metadata": {},
   "outputs": [
    {
     "name": "stdout",
     "output_type": "stream",
     "text": [
      "┌───┐\n",
      "│      │\n",
      "│  ●  │\n",
      "│      │\n",
      "└───┘\n",
      "\n",
      "┌───┐\n",
      "│  ●  │\n",
      "│      │\n",
      "│  ●  │\n",
      "└───┘\n",
      "\n",
      "┌───┐\n",
      "│●    │\n",
      "│  ●  │\n",
      "│    ●│\n",
      "└───┘\n",
      "\n",
      "┌───┐\n",
      "│●  ●│\n",
      "│      │\n",
      "│●  ●│\n",
      "└───┘\n",
      "\n",
      "┌───┐\n",
      "│●  ●│\n",
      "│  ●  │\n",
      "│●  ●│\n",
      "└───┘\n",
      "\n",
      "┌───┐\n",
      "│●  ●│\n",
      "│●  ●│\n",
      "│●  ●│\n",
      "└───┘\n",
      "\n"
     ]
    }
   ],
   "source": [
    "dice_tpl= '''\\\n",
    "┌───┐,┌───┐,┌───┐,┌───┐,┌───┐,┌───┐\n",
    "│      │,│  ●  │,│●    │,│●  ●│,│●  ●│,│●  ●│\n",
    "│  ●  │,│      │,│  ●  │,│      │,│  ●  │,│●  ●│\n",
    "│      │,│  ●  │,│    ●│,│●  ●│,│●  ●│,│●  ●│\n",
    "└───┘,└───┘,└───┘,└───┘,└───┘,└───┘'''\n",
    "dice_lines = dice_tpl.split('\\n')\n",
    "\n",
    "for i in range(5):\n",
    "    dice_lines[i] = dice_lines[i].split(',')\n",
    "\n",
    "dice = ['','','','','','']\n",
    "\n",
    "for i in range(6):\n",
    "    for j in range(5):\n",
    "        dice[i] += (dice_lines[j][i] + '\\n')\n",
    "\n",
    "for i in range(6):\n",
    "    print(dice[i])\n"
   ]
  },
  {
   "cell_type": "markdown",
   "metadata": {},
   "source": [
    "代码应该输出：\n",
    "```\n",
    "┌───┐\n",
    "│      │\n",
    "│  ●  │\n",
    "│      │\n",
    "└───┘\n",
    "\n",
    "┌───┐\n",
    "│  ●  │\n",
    "│      │\n",
    "│  ●  │\n",
    "└───┘\n",
    "\n",
    "┌───┐\n",
    "│●    │\n",
    "│  ●  │\n",
    "│    ●│\n",
    "└───┘\n",
    "\n",
    "┌───┐\n",
    "│●  ●│\n",
    "│      │\n",
    "│●  ●│\n",
    "└───┘\n",
    "\n",
    "┌───┐\n",
    "│●  ●│\n",
    "│  ●  │\n",
    "│●  ●│\n",
    "└───┘\n",
    "\n",
    "┌───┐\n",
    "│●  ●│\n",
    "│●  ●│\n",
    "│●  ●│\n",
    "└───┘\n",
    "```"
   ]
  },
  {
   "cell_type": "markdown",
   "metadata": {},
   "source": [
    "### 第二步，完成猜大小游戏\n",
    "规则如下：    \n",
    "　　投掷3个骰子，如果3个骰子之和小于10为小，大于10为大  \n",
    "步骤分解： \n",
    "* 请用户输入大或小（用0,1代替）\n",
    "* 投掷3个骰子，使用random库中的randint函数生成骰点大小，并依次输出骰点\n",
    "* 计算骰点大小，判断用户输赢，并给出结果\n",
    "\n",
    "**根据上面的步骤完成代码**"
   ]
  },
  {
   "cell_type": "code",
   "execution_count": 29,
   "metadata": {},
   "outputs": [
    {
     "name": "stdout",
     "output_type": "stream",
     "text": [
      "1\n",
      "┌───┐\n",
      "│●    │\n",
      "│  ●  │\n",
      "│    ●│\n",
      "└───┘\n",
      "\n",
      "┌───┐\n",
      "│●    │\n",
      "│  ●  │\n",
      "│    ●│\n",
      "└───┘\n",
      "\n",
      "┌───┐\n",
      "│●  ●│\n",
      "│●  ●│\n",
      "│●  ●│\n",
      "└───┘\n",
      "\n",
      "赢\n"
     ]
    }
   ],
   "source": [
    "import random\n",
    "\n",
    "user_input = bool(int(input()))\n",
    "sum = 0\n",
    "\n",
    "for i in range(3):\n",
    "    tmp = random.randint(1, 6)\n",
    "    sum += tmp\n",
    "    print(dice[tmp-1])\n",
    "\n",
    "if (sum > 10 and user_input is False) or (sum < 10 and user_input is True):\n",
    "    print('输')\n",
    "elif (sum > 10 and user_input is True) or (sum < 10 and user_input is False):\n",
    "    print('赢')\n",
    "else:\n",
    "    print('平局')\n"
   ]
  },
  {
   "cell_type": "code",
   "execution_count": null,
   "metadata": {},
   "outputs": [],
   "source": []
  }
 ],
 "metadata": {
  "kernelspec": {
   "display_name": "Python 3",
   "language": "python",
   "name": "python3"
  },
  "language_info": {
   "codemirror_mode": {
    "name": "ipython",
    "version": 3
   },
   "file_extension": ".py",
   "mimetype": "text/x-python",
   "name": "python",
   "nbconvert_exporter": "python",
   "pygments_lexer": "ipython3",
   "version": "3.7.4"
  },
  "latex_envs": {
   "LaTeX_envs_menu_present": true,
   "autoclose": false,
   "autocomplete": true,
   "bibliofile": "biblio.bib",
   "cite_by": "apalike",
   "current_citInitial": 1,
   "eqLabelWithNumbers": true,
   "eqNumInitial": 1,
   "hotkeys": {
    "equation": "Ctrl-E",
    "itemize": "Ctrl-I"
   },
   "labels_anchors": false,
   "latex_user_defs": false,
   "report_style_numbering": false,
   "user_envs_cfg": false
  },
  "toc": {
   "base_numbering": "1",
   "nav_menu": {},
   "number_sections": false,
   "sideBar": true,
   "skip_h1_title": false,
   "title_cell": "Table of Contents",
   "title_sidebar": "Contents",
   "toc_cell": false,
   "toc_position": {
    "height": "calc(100% - 180px)",
    "left": "10px",
    "top": "150px",
    "width": "180px"
   },
   "toc_section_display": true,
   "toc_window_display": true
  }
 },
 "nbformat": 4,
 "nbformat_minor": 2
}
